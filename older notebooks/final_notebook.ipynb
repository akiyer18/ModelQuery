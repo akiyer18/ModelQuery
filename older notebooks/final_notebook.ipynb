{
 "cells": [
  {
   "cell_type": "code",
   "execution_count": null,
   "id": "9c2d8c4a",
   "metadata": {},
   "outputs": [],
   "source": [
    "from langchain.embeddings.openai import OpenAIEmbeddings\n",
    "from langchain.vectorstores import Pinecone\n",
    "from langchain.llms import OpenAI\n",
    "import json\n",
    "import re\n",
    "from openai import OpenAI\n"
   ]
  },
  {
   "cell_type": "code",
   "execution_count": 4,
   "id": "aaae89ed",
   "metadata": {},
   "outputs": [
    {
     "name": "stdout",
     "output_type": "stream",
     "text": [
      "Found 100 products\n",
      "First product model: I-7547\n"
     ]
    }
   ],
   "source": [
    "with open('description.txt', 'r') as file:\n",
    "    text = file.read()\n",
    "def clean_json_data(text):\n",
    "    \"\"\"Clean the JSON string and parse it properly\"\"\"\n",
    "    # Remove unicode characters like \\u00a0\n",
    "    cleaned_text = re.sub(r'\\\\u00a0', '', text)\n",
    "    # Parse the JSON\n",
    "    data = json.loads(cleaned_text)\n",
    "    return data\n",
    "\n",
    "# Clean the data\n",
    "products = clean_json_data(text)\n",
    "print(f\"Found {len(products)} products\")\n",
    "print(f\"First product model: {products[0]['model_no']}\")\n",
    "\n",
    "def parse_description(desc):\n",
    "    # Extract short and full descriptions separately\n",
    "    full_desc_match = re.search(r\"Full Description:\\s*(.*?)(?:\\.|$)\", desc)\n",
    "    short_desc_match = re.search(r\"Short Description:\\s*(.*?)(?:\\.|$)\", desc)\n",
    "    \n",
    "    # Extract all other key-value style entries\n",
    "    key_value_pairs = re.findall(r\"([\\w\\s/]+?):\\s*(.*?)(?:\\.|$)\", desc)\n",
    "\n",
    "    parsed = {\n",
    "        \"full_description\": full_desc_match.group(1) if full_desc_match else \"\",\n",
    "        # \"short_description\": short_desc_match.group(1) if short_desc_match else \"\",\n",
    "        \"specs\": {k.strip(): v.strip() for k, v in key_value_pairs \n",
    "                  if k not in [\"Full Description\", \"Short Description\"]}\n",
    "    }\n",
    "    return parsed\n",
    "\n",
    "\n",
    "# # Apply parsing\n",
    "# for item in products:\n",
    "    \n",
    "\n",
    "def clean_spec_value(key, value):\n",
    "    value = value.strip()\n",
    "    \n",
    "    # Normalize \"No XYZ support\" → \"not supported\"\n",
    "    if re.match(r'no\\s+[a-zA-Z0-9\\-/ ]+\\s+support', value, flags=re.IGNORECASE):\n",
    "        return \"not supported\"\n",
    "    \n",
    "    # Normalize \"XYZ not available\" → \"not available\"\n",
    "    if re.search(r'not available', value, flags=re.IGNORECASE):\n",
    "        return \"not available\"\n",
    "\n",
    "    return value\n",
    "\n",
    "def specs_to_string(specs):\n",
    "    parts = []\n",
    "    for k, v in specs.items():\n",
    "        cleaned = clean_spec_value(k, v)\n",
    "        parts.append(f\"{k}: {cleaned}\")\n",
    "    return \". \".join(parts)\n",
    "\n",
    "def create_embedding_text(item):\n",
    "    parts = [\n",
    "        f\"Model No: {item['model_no']}\",\n",
    "        # f\"Short Description: {item['short_description']}\",\n",
    "        f\"Full Description: {item['full_description']}\",\n",
    "        specs_to_string(item[\"specs\"])  # Cleaned specs as one string\n",
    "    ]\n",
    "    return \". \".join(parts)\n",
    "\n",
    "def normalize_text(text):\n",
    "    text = text.lower()\n",
    "    text = re.sub(r'\\s+', ' ', text)              # Collapse multiple spaces\n",
    "    text = re.sub(r'\\s([:;,.])', r'\\1', text)      # Remove space before punctuation\n",
    "    text = text.strip()\n",
    "    return text\n",
    "\n",
    "# Add new field for embedding\n",
    "for item in products:\n",
    "    parsed = parse_description(item[\"description\"])\n",
    "    item[\"full_description\"] = parsed[\"full_description\"]\n",
    "    # item[\"short_description\"] = parsed[\"short_description\"]\n",
    "    item[\"specs\"] = parsed[\"specs\"]\n",
    "    del item[\"description\"]\n",
    "    specs = item.get(\"specs\", {})\n",
    "    if \"Fi\" in specs:\n",
    "        # Move value to correct key\n",
    "        specs[\"Wi-Fi\"] = specs.pop(\"Fi\")\n",
    "    item[\"embedding_text\"] = create_embedding_text(item)\n",
    "    item[\"embedding_text\"] = item[\"embedding_text\"].lower()\n",
    "    item[\"embedding_text\"] = normalize_text(item[\"embedding_text\"])\n",
    "\n",
    "\n",
    "docs = [item[\"embedding_text\"] for item in products]\n"
   ]
  },
  {
   "cell_type": "code",
   "execution_count": null,
   "id": "c6647407",
   "metadata": {},
   "outputs": [],
   "source": [
    "client = OpenAI(api_key=\"YOUR_OPENAI_API_KEY_HERE\")\n",
    "\n",
    "pc = Pinecone(api_key=\"YOUR_PINECONE_API_KEY_HERE\", environment=\"us-east-1\")"
   ]
  },
  {
   "cell_type": "code",
   "execution_count": 8,
   "id": "9e13ab16",
   "metadata": {},
   "outputs": [
    {
     "ename": "ImportError",
     "evalue": "cannot import name 'ServerlessSpec' from 'pinecone' (unknown location)",
     "output_type": "error",
     "traceback": [
      "\u001b[0;31m---------------------------------------------------------------------------\u001b[0m",
      "\u001b[0;31mImportError\u001b[0m                               Traceback (most recent call last)",
      "Cell \u001b[0;32mIn[8], line 1\u001b[0m\n\u001b[0;32m----> 1\u001b[0m \u001b[38;5;28;01mfrom\u001b[39;00m\u001b[38;5;250m \u001b[39m\u001b[38;5;21;01mpinecone\u001b[39;00m\u001b[38;5;250m \u001b[39m\u001b[38;5;28;01mimport\u001b[39;00m ServerlessSpec\n\u001b[1;32m      2\u001b[0m index_name \u001b[38;5;241m=\u001b[39m \u001b[38;5;124m\"\u001b[39m\u001b[38;5;124mmodel-prompter\u001b[39m\u001b[38;5;124m\"\u001b[39m\n\u001b[1;32m      3\u001b[0m \u001b[38;5;28;01mif\u001b[39;00m index_name \u001b[38;5;129;01mnot\u001b[39;00m \u001b[38;5;129;01min\u001b[39;00m pc\u001b[38;5;241m.\u001b[39mlist_indexes()\u001b[38;5;241m.\u001b[39mnames():\n",
      "\u001b[0;31mImportError\u001b[0m: cannot import name 'ServerlessSpec' from 'pinecone' (unknown location)"
     ]
    }
   ],
   "source": [
    "from pinecone import ServerlessSpec\n",
    "index_name = \"model-prompter\"\n",
    "if index_name not in pc.list_indexes().names():\n",
    "    pc.create_index(\n",
    "        name=index_name,\n",
    "        dimension=3072,\n",
    "        metric=\"cosine\",\n",
    "        spec=ServerlessSpec(cloud=\"aws\", region=\"us-east-1\")\n",
    ")\n",
    "index = pc.Index(\"model-prompter\")"
   ]
  },
  {
   "cell_type": "code",
   "execution_count": 9,
   "id": "a36b9e66",
   "metadata": {},
   "outputs": [
    {
     "name": "stdout",
     "output_type": "stream",
     "text": [
      "Requirement already satisfied: pinecone in ./venv/lib/python3.10/site-packages (7.3.0)\n",
      "Requirement already satisfied: certifi>=2019.11.17 in ./venv/lib/python3.10/site-packages (from pinecone) (2025.7.14)\n",
      "Requirement already satisfied: pinecone-plugin-assistant<2.0.0,>=1.6.0 in ./venv/lib/python3.10/site-packages (from pinecone) (1.7.0)\n",
      "Requirement already satisfied: pinecone-plugin-interface<0.0.8,>=0.0.7 in ./venv/lib/python3.10/site-packages (from pinecone) (0.0.7)\n",
      "Requirement already satisfied: python-dateutil>=2.5.3 in ./venv/lib/python3.10/site-packages (from pinecone) (2.9.0.post0)\n",
      "Requirement already satisfied: typing-extensions>=3.7.4 in ./venv/lib/python3.10/site-packages (from pinecone) (4.14.1)\n",
      "Requirement already satisfied: urllib3>=1.26.0 in ./venv/lib/python3.10/site-packages (from pinecone) (2.5.0)\n",
      "Requirement already satisfied: packaging<25.0,>=24.2 in ./venv/lib/python3.10/site-packages (from pinecone-plugin-assistant<2.0.0,>=1.6.0->pinecone) (24.2)\n",
      "Requirement already satisfied: requests<3.0.0,>=2.32.3 in ./venv/lib/python3.10/site-packages (from pinecone-plugin-assistant<2.0.0,>=1.6.0->pinecone) (2.32.4)\n",
      "Requirement already satisfied: charset_normalizer<4,>=2 in ./venv/lib/python3.10/site-packages (from requests<3.0.0,>=2.32.3->pinecone-plugin-assistant<2.0.0,>=1.6.0->pinecone) (3.4.2)\n",
      "Requirement already satisfied: idna<4,>=2.5 in ./venv/lib/python3.10/site-packages (from requests<3.0.0,>=2.32.3->pinecone-plugin-assistant<2.0.0,>=1.6.0->pinecone) (3.10)\n",
      "Requirement already satisfied: six>=1.5 in ./venv/lib/python3.10/site-packages (from python-dateutil>=2.5.3->pinecone) (1.17.0)\n"
     ]
    }
   ],
   "source": [
    "!pip install --upgrade pinecone"
   ]
  },
  {
   "cell_type": "code",
   "execution_count": 10,
   "id": "61a084e2",
   "metadata": {},
   "outputs": [
    {
     "name": "stdout",
     "output_type": "stream",
     "text": [
      "Name: pinecone\n",
      "Version: 7.3.0\n",
      "Summary: Pinecone client and SDK\n",
      "Home-page: https://www.pinecone.io\n",
      "Author: Pinecone Systems, Inc.\n",
      "Author-email: support@pinecone.io\n",
      "License: Apache-2.0\n",
      "Location: /Users/akshayeiyer/Documents/My Projects/Langchain/VectorDB Pinecone project/venv/lib/python3.10/site-packages\n",
      "Requires: certifi, pinecone-plugin-assistant, pinecone-plugin-interface, python-dateutil, typing-extensions, urllib3\n",
      "Required-by: \n"
     ]
    }
   ],
   "source": [
    "!pip show pinecone"
   ]
  },
  {
   "cell_type": "code",
   "execution_count": 11,
   "id": "e18d4170",
   "metadata": {},
   "outputs": [
    {
     "ename": "ImportError",
     "evalue": "cannot import name 'Pinecone' from 'pinecone' (unknown location)",
     "output_type": "error",
     "traceback": [
      "\u001b[0;31m---------------------------------------------------------------------------\u001b[0m",
      "\u001b[0;31mImportError\u001b[0m                               Traceback (most recent call last)",
      "Cell \u001b[0;32mIn[11], line 1\u001b[0m\n\u001b[0;32m----> 1\u001b[0m \u001b[38;5;28;01mfrom\u001b[39;00m\u001b[38;5;250m \u001b[39m\u001b[38;5;21;01mpinecone\u001b[39;00m\u001b[38;5;250m \u001b[39m\u001b[38;5;28;01mimport\u001b[39;00m Pinecone, ServerlessSpec\n\u001b[1;32m      2\u001b[0m index_name \u001b[38;5;241m=\u001b[39m \u001b[38;5;124m\"\u001b[39m\u001b[38;5;124mmodel-prompter\u001b[39m\u001b[38;5;124m\"\u001b[39m\n\u001b[1;32m      4\u001b[0m \u001b[38;5;28;01mif\u001b[39;00m index_name \u001b[38;5;129;01mnot\u001b[39;00m \u001b[38;5;129;01min\u001b[39;00m pc\u001b[38;5;241m.\u001b[39mlist_indexes()\u001b[38;5;241m.\u001b[39mnames():\n",
      "\u001b[0;31mImportError\u001b[0m: cannot import name 'Pinecone' from 'pinecone' (unknown location)"
     ]
    }
   ],
   "source": [
    "from pinecone import Pinecone, ServerlessSpec\n",
    "index_name = \"model-prompter\"\n",
    "\n",
    "if index_name not in pc.list_indexes().names():\n",
    "    pc.create_index(\n",
    "        name=index_name,\n",
    "        dimension=768,\n",
    "        metric=\"cosine\",\n",
    "        spec=ServerlessSpec(\n",
    "            cloud=\"aws\",  # or \"gcp\"\n",
    "            region=\"us-west-2\"\n",
    "        )\n",
    "    )"
   ]
  },
  {
   "cell_type": "code",
   "execution_count": null,
   "id": "e6222cda",
   "metadata": {},
   "outputs": [],
   "source": []
  }
 ],
 "metadata": {
  "kernelspec": {
   "display_name": "Python 3",
   "language": "python",
   "name": "python3"
  },
  "language_info": {
   "codemirror_mode": {
    "name": "ipython",
    "version": 3
   },
   "file_extension": ".py",
   "mimetype": "text/x-python",
   "name": "python",
   "nbconvert_exporter": "python",
   "pygments_lexer": "ipython3",
   "version": "3.10.0"
  }
 },
 "nbformat": 4,
 "nbformat_minor": 5
}
